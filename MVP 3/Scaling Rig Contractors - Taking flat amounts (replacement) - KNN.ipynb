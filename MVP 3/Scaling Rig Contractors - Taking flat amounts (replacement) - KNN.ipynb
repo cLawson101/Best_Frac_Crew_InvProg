{
 "cells": [
  {
   "cell_type": "markdown",
   "metadata": {},
   "source": [
    "# Sampling Rig Contractors - KNN\n",
    "\n",
    "Here we will tackle the problem of contractors not having enough entries to compete with other contractors by simply making it so that we can sample with replacement.\n",
    "\n",
    "This will help to amplify the results of the smaller contractors"
   ]
  },
  {
   "cell_type": "code",
   "execution_count": 1,
   "metadata": {},
   "outputs": [],
   "source": [
    "from time import time\n",
    "import numpy as np\n",
    "import matplotlib.pyplot as plt\n",
    "\n",
    "from sklearn import metrics\n",
    "from sklearn.cluster import KMeans\n",
    "from sklearn.datasets import load_digits\n",
    "from sklearn.decomposition import PCA\n",
    "from sklearn.preprocessing import scale\n",
    "\n",
    "import pandas as pd\n",
    "import matplotlib.pyplot as plt\n",
    "%matplotlib inline\n",
    "import numpy as np\n",
    "import seaborn as sns\n",
    "from sklearn.model_selection import train_test_split\n",
    "import os\n",
    "import torch\n",
    "from torch import nn\n",
    "from torch.autograd import Variable\n",
    "import torch.nn.functional as F\n",
    "\n",
    "from sklearn.preprocessing import MinMaxScaler\n",
    "from sklearn.preprocessing import LabelEncoder\n",
    "from sklearn.model_selection import train_test_split"
   ]
  },
  {
   "cell_type": "markdown",
   "metadata": {},
   "source": [
    "## Establishing Path"
   ]
  },
  {
   "cell_type": "code",
   "execution_count": 2,
   "metadata": {},
   "outputs": [],
   "source": [
    "path = \"../SHARED/\""
   ]
  },
  {
   "cell_type": "markdown",
   "metadata": {},
   "source": [
    "## Recompletion"
   ]
  },
  {
   "cell_type": "code",
   "execution_count": 3,
   "metadata": {},
   "outputs": [],
   "source": [
    "# read in the data\n",
    "data_rcompl = pd.read_excel(path + \"RCOMPL_KNN_IMPUTED.xlsx\")"
   ]
  },
  {
   "cell_type": "code",
   "execution_count": 4,
   "metadata": {},
   "outputs": [],
   "source": [
    "# get all the contractors\n",
    "unique_rigs = data_rcompl[\"CONTRACTOR\"].unique()"
   ]
  },
  {
   "cell_type": "code",
   "execution_count": 5,
   "metadata": {},
   "outputs": [
    {
     "name": "stdout",
     "output_type": "stream",
     "text": [
      "CONTRACTOR - 2019000027  has  805  elements.\n",
      "CONTRACTOR - 2019000030  has  403  elements.\n",
      "CONTRACTOR - 2019000023  has  165  elements.\n",
      "CONTRACTOR - 2019000008  has  259  elements.\n",
      "CONTRACTOR - 2019000051  has  22  elements.\n"
     ]
    }
   ],
   "source": [
    "# find out how many entries they have\n",
    "total_entries = []\n",
    "\n",
    "for i in unique_rigs:\n",
    "    temp_pd = data_rcompl[data_rcompl[\"CONTRACTOR\"] == i]\n",
    "    print(i, \" has \", len(temp_pd), \" elements.\")\n",
    "    total_entries.append(len(temp_pd))"
   ]
  },
  {
   "cell_type": "code",
   "execution_count": 6,
   "metadata": {},
   "outputs": [
    {
     "data": {
      "text/plain": [
       "[805, 403, 165, 259, 22]"
      ]
     },
     "execution_count": 6,
     "metadata": {},
     "output_type": "execute_result"
    }
   ],
   "source": [
    "total_entries"
   ]
  },
  {
   "cell_type": "code",
   "execution_count": 7,
   "metadata": {},
   "outputs": [],
   "source": [
    "# sum the total entries and divide by the number of contractors\n",
    "# to find out how many entries each contractor must have to be equal\n",
    "sum_rcompl = 0\n",
    "\n",
    "for i in total_entries:\n",
    "    sum_rcompl += i\n",
    "\n",
    "tot_samples = sum_rcompl // 5"
   ]
  },
  {
   "cell_type": "code",
   "execution_count": 8,
   "metadata": {},
   "outputs": [
    {
     "data": {
      "text/plain": [
       "330"
      ]
     },
     "execution_count": 8,
     "metadata": {},
     "output_type": "execute_result"
    }
   ],
   "source": [
    "tot_samples"
   ]
  },
  {
   "cell_type": "code",
   "execution_count": 9,
   "metadata": {},
   "outputs": [],
   "source": [
    "# Now taking that sample while having replacement\n",
    "new_rcompl = pd.DataFrame(columns = data_rcompl.columns)\n",
    "\n",
    "for i in range(0, len(unique_rigs)):\n",
    "    temp_pd = data_rcompl[data_rcompl[\"CONTRACTOR\"] == unique_rigs[i]]\n",
    "    temp_pd = temp_pd.sample(n = tot_samples, replace = True)\n",
    "    new_rcompl = new_rcompl.append(temp_pd, ignore_index=True)"
   ]
  },
  {
   "cell_type": "code",
   "execution_count": 10,
   "metadata": {},
   "outputs": [
    {
     "data": {
      "text/html": [
       "<div>\n",
       "<style scoped>\n",
       "    .dataframe tbody tr th:only-of-type {\n",
       "        vertical-align: middle;\n",
       "    }\n",
       "\n",
       "    .dataframe tbody tr th {\n",
       "        vertical-align: top;\n",
       "    }\n",
       "\n",
       "    .dataframe thead th {\n",
       "        text-align: right;\n",
       "    }\n",
       "</style>\n",
       "<table border=\"1\" class=\"dataframe\">\n",
       "  <thead>\n",
       "    <tr style=\"text-align: right;\">\n",
       "      <th></th>\n",
       "      <th>UWI</th>\n",
       "      <th>UWI_SIDETRACK</th>\n",
       "      <th>REPORT_START_DATE_YEAR</th>\n",
       "      <th>FRAC_GRADIENT</th>\n",
       "      <th>BREAKDOWN_PRESSURE</th>\n",
       "      <th>HYDROSTATIC_PRESSURE</th>\n",
       "      <th>TREAT_AVG_PRESSURE</th>\n",
       "      <th>TREAT_MAX_PRESSURE</th>\n",
       "      <th>TREAT_MIN_PRESSURE</th>\n",
       "      <th>PROPPANT_DESIGNED</th>\n",
       "      <th>...</th>\n",
       "      <th>DIVERSION_COMPANY</th>\n",
       "      <th>DIVERSION_METHOD</th>\n",
       "      <th>DELIVERY_MODE</th>\n",
       "      <th>BOTTOM_HOLE_PRESSURE_METHOD</th>\n",
       "      <th>CLOSURE_PRESSURE_METHOD</th>\n",
       "      <th>STIMULATION_RESULT</th>\n",
       "      <th>STIMULATION_RESULT_DETAIL</th>\n",
       "      <th>STIMTREAT_ID</th>\n",
       "      <th>FLUID_NAME</th>\n",
       "      <th>SITE_SUPERVISOR</th>\n",
       "    </tr>\n",
       "  </thead>\n",
       "  <tbody>\n",
       "    <tr>\n",
       "      <th>0</th>\n",
       "      <td>2019000708</td>\n",
       "      <td>0</td>\n",
       "      <td>2019</td>\n",
       "      <td>1.0</td>\n",
       "      <td>6241.0</td>\n",
       "      <td>5635.0</td>\n",
       "      <td>8011.0</td>\n",
       "      <td>8338.0</td>\n",
       "      <td>2964.0</td>\n",
       "      <td>218700</td>\n",
       "      <td>...</td>\n",
       "      <td>DIVERSION_COMPANY - 2019000003</td>\n",
       "      <td>Unibeads</td>\n",
       "      <td>Casing</td>\n",
       "      <td>Calculated</td>\n",
       "      <td>Nolte-Smith Calc</td>\n",
       "      <td>Success</td>\n",
       "      <td>According to Plan</td>\n",
       "      <td>6A1045B40C5B48B295CA2A65E7B58B3B</td>\n",
       "      <td>Fresh Water</td>\n",
       "      <td>LACHO</td>\n",
       "    </tr>\n",
       "    <tr>\n",
       "      <th>1</th>\n",
       "      <td>2019000640</td>\n",
       "      <td>0</td>\n",
       "      <td>2019</td>\n",
       "      <td>1.0</td>\n",
       "      <td>7237.0</td>\n",
       "      <td>5593.0</td>\n",
       "      <td>9782.0</td>\n",
       "      <td>10080.0</td>\n",
       "      <td>7618.0</td>\n",
       "      <td>384000</td>\n",
       "      <td>...</td>\n",
       "      <td>DIVERSION_COMPANY - 2019000007</td>\n",
       "      <td>Frac Plug</td>\n",
       "      <td>Casing</td>\n",
       "      <td>Calculated</td>\n",
       "      <td>Nolte-Smith Calc</td>\n",
       "      <td>Success</td>\n",
       "      <td>According to Plan</td>\n",
       "      <td>5D05717248A644059AE6585FBD575AFF</td>\n",
       "      <td>LX-6 (FDP -1298)</td>\n",
       "      <td>JAMES CECIL</td>\n",
       "    </tr>\n",
       "    <tr>\n",
       "      <th>2</th>\n",
       "      <td>2019000712</td>\n",
       "      <td>0</td>\n",
       "      <td>2018</td>\n",
       "      <td>1.0</td>\n",
       "      <td>8503.0</td>\n",
       "      <td>5612.0</td>\n",
       "      <td>8542.0</td>\n",
       "      <td>8802.0</td>\n",
       "      <td>7218.8</td>\n",
       "      <td>353000</td>\n",
       "      <td>...</td>\n",
       "      <td>DIVERSION_COMPANY - 2019000003</td>\n",
       "      <td>CFP</td>\n",
       "      <td>Casing</td>\n",
       "      <td>Calculated</td>\n",
       "      <td>Nolte-Smith Calc</td>\n",
       "      <td>Success</td>\n",
       "      <td>According to Plan</td>\n",
       "      <td>AE34097440FF4B3C9AC41276D56BB96E</td>\n",
       "      <td>20# GUAR BORATE</td>\n",
       "      <td>LACHO</td>\n",
       "    </tr>\n",
       "    <tr>\n",
       "      <th>3</th>\n",
       "      <td>2019000298</td>\n",
       "      <td>0</td>\n",
       "      <td>2019</td>\n",
       "      <td>1.0</td>\n",
       "      <td>8487.0</td>\n",
       "      <td>5514.4</td>\n",
       "      <td>9272.0</td>\n",
       "      <td>9562.0</td>\n",
       "      <td>7346.0</td>\n",
       "      <td>328750</td>\n",
       "      <td>...</td>\n",
       "      <td>DIVERSION_COMPANY - 2019000003</td>\n",
       "      <td>Bridge Plug</td>\n",
       "      <td>Casing</td>\n",
       "      <td>Calculated</td>\n",
       "      <td>Nolte-Smith Calc</td>\n",
       "      <td>Success</td>\n",
       "      <td>According to Plan</td>\n",
       "      <td>80AB4FF61E0A46C68E2A8C60643281F2</td>\n",
       "      <td>Slickwater</td>\n",
       "      <td>HECTOR RODRIGUEZ</td>\n",
       "    </tr>\n",
       "    <tr>\n",
       "      <th>4</th>\n",
       "      <td>2019001382</td>\n",
       "      <td>0</td>\n",
       "      <td>2017</td>\n",
       "      <td>1.0</td>\n",
       "      <td>5269.0</td>\n",
       "      <td>5379.0</td>\n",
       "      <td>5864.0</td>\n",
       "      <td>6828.0</td>\n",
       "      <td>4668.0</td>\n",
       "      <td>24000</td>\n",
       "      <td>...</td>\n",
       "      <td>DIVERSION_COMPANY - 2019000003</td>\n",
       "      <td>Pill</td>\n",
       "      <td>Casing</td>\n",
       "      <td>Calculated</td>\n",
       "      <td>Nolte-Smith Calc</td>\n",
       "      <td>Success</td>\n",
       "      <td>According to Plan</td>\n",
       "      <td>D31B0D6DD4E8411EAC8AC8220205503E</td>\n",
       "      <td>Slick Water</td>\n",
       "      <td>HONEYCUTT</td>\n",
       "    </tr>\n",
       "    <tr>\n",
       "      <th>...</th>\n",
       "      <td>...</td>\n",
       "      <td>...</td>\n",
       "      <td>...</td>\n",
       "      <td>...</td>\n",
       "      <td>...</td>\n",
       "      <td>...</td>\n",
       "      <td>...</td>\n",
       "      <td>...</td>\n",
       "      <td>...</td>\n",
       "      <td>...</td>\n",
       "      <td>...</td>\n",
       "      <td>...</td>\n",
       "      <td>...</td>\n",
       "      <td>...</td>\n",
       "      <td>...</td>\n",
       "      <td>...</td>\n",
       "      <td>...</td>\n",
       "      <td>...</td>\n",
       "      <td>...</td>\n",
       "      <td>...</td>\n",
       "      <td>...</td>\n",
       "    </tr>\n",
       "    <tr>\n",
       "      <th>1645</th>\n",
       "      <td>2019000278</td>\n",
       "      <td>0</td>\n",
       "      <td>2019</td>\n",
       "      <td>1.0</td>\n",
       "      <td>5335.0</td>\n",
       "      <td>5119.2</td>\n",
       "      <td>8561.0</td>\n",
       "      <td>9179.0</td>\n",
       "      <td>7618.0</td>\n",
       "      <td>367500</td>\n",
       "      <td>...</td>\n",
       "      <td>DIVERSION_COMPANY - 2019000003</td>\n",
       "      <td>Frac Plug</td>\n",
       "      <td>Casing</td>\n",
       "      <td>Calculated</td>\n",
       "      <td>Nolte-Smith Calc</td>\n",
       "      <td>Success</td>\n",
       "      <td>According to Plan</td>\n",
       "      <td>ACA7734DDC7D4EB9AA4213B6C7AD9FA8</td>\n",
       "      <td>Slickwater</td>\n",
       "      <td>HECTOR RODRIGUEZ</td>\n",
       "    </tr>\n",
       "    <tr>\n",
       "      <th>1646</th>\n",
       "      <td>2019000278</td>\n",
       "      <td>0</td>\n",
       "      <td>2019</td>\n",
       "      <td>1.0</td>\n",
       "      <td>5958.0</td>\n",
       "      <td>5513.2</td>\n",
       "      <td>8483.0</td>\n",
       "      <td>9008.0</td>\n",
       "      <td>7618.0</td>\n",
       "      <td>367500</td>\n",
       "      <td>...</td>\n",
       "      <td>DIVERSION_COMPANY - 2019000003</td>\n",
       "      <td>Frac Plug</td>\n",
       "      <td>Casing</td>\n",
       "      <td>Calculated</td>\n",
       "      <td>Nolte-Smith Calc</td>\n",
       "      <td>Success</td>\n",
       "      <td>According to Plan</td>\n",
       "      <td>FFE6FEAE21B44CE6931C11D3BA25DBC5</td>\n",
       "      <td>Slickwater</td>\n",
       "      <td>HECTOR RODRIGUEZ</td>\n",
       "    </tr>\n",
       "    <tr>\n",
       "      <th>1647</th>\n",
       "      <td>2019000278</td>\n",
       "      <td>0</td>\n",
       "      <td>2019</td>\n",
       "      <td>1.0</td>\n",
       "      <td>5255.0</td>\n",
       "      <td>5110.0</td>\n",
       "      <td>8442.0</td>\n",
       "      <td>9121.0</td>\n",
       "      <td>7618.0</td>\n",
       "      <td>367500</td>\n",
       "      <td>...</td>\n",
       "      <td>DIVERSION_COMPANY - 2019000003</td>\n",
       "      <td>Frac Plug</td>\n",
       "      <td>Casing</td>\n",
       "      <td>Calculated</td>\n",
       "      <td>Nolte-Smith Calc</td>\n",
       "      <td>Success</td>\n",
       "      <td>According to Plan</td>\n",
       "      <td>37D3B14C0BC140EB9122C8A045152A9C</td>\n",
       "      <td>Slickwater</td>\n",
       "      <td>Rene Gomez</td>\n",
       "    </tr>\n",
       "    <tr>\n",
       "      <th>1648</th>\n",
       "      <td>2019000278</td>\n",
       "      <td>0</td>\n",
       "      <td>2019</td>\n",
       "      <td>1.0</td>\n",
       "      <td>5335.0</td>\n",
       "      <td>5119.2</td>\n",
       "      <td>8561.0</td>\n",
       "      <td>9179.0</td>\n",
       "      <td>7618.0</td>\n",
       "      <td>367500</td>\n",
       "      <td>...</td>\n",
       "      <td>DIVERSION_COMPANY - 2019000003</td>\n",
       "      <td>Frac Plug</td>\n",
       "      <td>Casing</td>\n",
       "      <td>Calculated</td>\n",
       "      <td>Nolte-Smith Calc</td>\n",
       "      <td>Success</td>\n",
       "      <td>According to Plan</td>\n",
       "      <td>ACA7734DDC7D4EB9AA4213B6C7AD9FA8</td>\n",
       "      <td>Slickwater</td>\n",
       "      <td>HECTOR RODRIGUEZ</td>\n",
       "    </tr>\n",
       "    <tr>\n",
       "      <th>1649</th>\n",
       "      <td>2019000278</td>\n",
       "      <td>0</td>\n",
       "      <td>2019</td>\n",
       "      <td>1.0</td>\n",
       "      <td>8321.0</td>\n",
       "      <td>5143.0</td>\n",
       "      <td>7340.0</td>\n",
       "      <td>8605.0</td>\n",
       "      <td>7618.0</td>\n",
       "      <td>1273750</td>\n",
       "      <td>...</td>\n",
       "      <td>DIVERSION_COMPANY - 2019000003</td>\n",
       "      <td>CFP</td>\n",
       "      <td>Casing</td>\n",
       "      <td>Calculated</td>\n",
       "      <td>Nolte-Smith Calc</td>\n",
       "      <td>Success</td>\n",
       "      <td>Changed Plan</td>\n",
       "      <td>E1367B9C6B8544CA9087635972C31DD9</td>\n",
       "      <td>Slickwater</td>\n",
       "      <td>EFRAIN GONZALES</td>\n",
       "    </tr>\n",
       "  </tbody>\n",
       "</table>\n",
       "<p>1650 rows × 149 columns</p>\n",
       "</div>"
      ],
      "text/plain": [
       "             UWI UWI_SIDETRACK REPORT_START_DATE_YEAR  FRAC_GRADIENT  \\\n",
       "0     2019000708             0                   2019            1.0   \n",
       "1     2019000640             0                   2019            1.0   \n",
       "2     2019000712             0                   2018            1.0   \n",
       "3     2019000298             0                   2019            1.0   \n",
       "4     2019001382             0                   2017            1.0   \n",
       "...          ...           ...                    ...            ...   \n",
       "1645  2019000278             0                   2019            1.0   \n",
       "1646  2019000278             0                   2019            1.0   \n",
       "1647  2019000278             0                   2019            1.0   \n",
       "1648  2019000278             0                   2019            1.0   \n",
       "1649  2019000278             0                   2019            1.0   \n",
       "\n",
       "      BREAKDOWN_PRESSURE  HYDROSTATIC_PRESSURE  TREAT_AVG_PRESSURE  \\\n",
       "0                 6241.0                5635.0              8011.0   \n",
       "1                 7237.0                5593.0              9782.0   \n",
       "2                 8503.0                5612.0              8542.0   \n",
       "3                 8487.0                5514.4              9272.0   \n",
       "4                 5269.0                5379.0              5864.0   \n",
       "...                  ...                   ...                 ...   \n",
       "1645              5335.0                5119.2              8561.0   \n",
       "1646              5958.0                5513.2              8483.0   \n",
       "1647              5255.0                5110.0              8442.0   \n",
       "1648              5335.0                5119.2              8561.0   \n",
       "1649              8321.0                5143.0              7340.0   \n",
       "\n",
       "      TREAT_MAX_PRESSURE  TREAT_MIN_PRESSURE PROPPANT_DESIGNED  ...  \\\n",
       "0                 8338.0              2964.0            218700  ...   \n",
       "1                10080.0              7618.0            384000  ...   \n",
       "2                 8802.0              7218.8            353000  ...   \n",
       "3                 9562.0              7346.0            328750  ...   \n",
       "4                 6828.0              4668.0             24000  ...   \n",
       "...                  ...                 ...               ...  ...   \n",
       "1645              9179.0              7618.0            367500  ...   \n",
       "1646              9008.0              7618.0            367500  ...   \n",
       "1647              9121.0              7618.0            367500  ...   \n",
       "1648              9179.0              7618.0            367500  ...   \n",
       "1649              8605.0              7618.0           1273750  ...   \n",
       "\n",
       "                   DIVERSION_COMPANY DIVERSION_METHOD  DELIVERY_MODE  \\\n",
       "0     DIVERSION_COMPANY - 2019000003         Unibeads         Casing   \n",
       "1     DIVERSION_COMPANY - 2019000007        Frac Plug         Casing   \n",
       "2     DIVERSION_COMPANY - 2019000003              CFP         Casing   \n",
       "3     DIVERSION_COMPANY - 2019000003      Bridge Plug         Casing   \n",
       "4     DIVERSION_COMPANY - 2019000003             Pill         Casing   \n",
       "...                              ...              ...            ...   \n",
       "1645  DIVERSION_COMPANY - 2019000003        Frac Plug         Casing   \n",
       "1646  DIVERSION_COMPANY - 2019000003        Frac Plug         Casing   \n",
       "1647  DIVERSION_COMPANY - 2019000003        Frac Plug         Casing   \n",
       "1648  DIVERSION_COMPANY - 2019000003        Frac Plug         Casing   \n",
       "1649  DIVERSION_COMPANY - 2019000003              CFP         Casing   \n",
       "\n",
       "      BOTTOM_HOLE_PRESSURE_METHOD  CLOSURE_PRESSURE_METHOD  \\\n",
       "0                      Calculated         Nolte-Smith Calc   \n",
       "1                      Calculated         Nolte-Smith Calc   \n",
       "2                      Calculated         Nolte-Smith Calc   \n",
       "3                      Calculated         Nolte-Smith Calc   \n",
       "4                      Calculated         Nolte-Smith Calc   \n",
       "...                           ...                      ...   \n",
       "1645                   Calculated         Nolte-Smith Calc   \n",
       "1646                   Calculated         Nolte-Smith Calc   \n",
       "1647                   Calculated         Nolte-Smith Calc   \n",
       "1648                   Calculated         Nolte-Smith Calc   \n",
       "1649                   Calculated         Nolte-Smith Calc   \n",
       "\n",
       "      STIMULATION_RESULT  STIMULATION_RESULT_DETAIL  \\\n",
       "0                Success          According to Plan   \n",
       "1                Success          According to Plan   \n",
       "2                Success          According to Plan   \n",
       "3                Success          According to Plan   \n",
       "4                Success          According to Plan   \n",
       "...                  ...                        ...   \n",
       "1645             Success          According to Plan   \n",
       "1646             Success          According to Plan   \n",
       "1647             Success          According to Plan   \n",
       "1648             Success          According to Plan   \n",
       "1649             Success               Changed Plan   \n",
       "\n",
       "                          STIMTREAT_ID        FLUID_NAME   SITE_SUPERVISOR  \n",
       "0     6A1045B40C5B48B295CA2A65E7B58B3B       Fresh Water             LACHO  \n",
       "1     5D05717248A644059AE6585FBD575AFF  LX-6 (FDP -1298)       JAMES CECIL  \n",
       "2     AE34097440FF4B3C9AC41276D56BB96E   20# GUAR BORATE             LACHO  \n",
       "3     80AB4FF61E0A46C68E2A8C60643281F2        Slickwater  HECTOR RODRIGUEZ  \n",
       "4     D31B0D6DD4E8411EAC8AC8220205503E       Slick Water         HONEYCUTT  \n",
       "...                                ...               ...               ...  \n",
       "1645  ACA7734DDC7D4EB9AA4213B6C7AD9FA8        Slickwater  HECTOR RODRIGUEZ  \n",
       "1646  FFE6FEAE21B44CE6931C11D3BA25DBC5        Slickwater  HECTOR RODRIGUEZ  \n",
       "1647  37D3B14C0BC140EB9122C8A045152A9C        Slickwater        Rene Gomez  \n",
       "1648  ACA7734DDC7D4EB9AA4213B6C7AD9FA8        Slickwater  HECTOR RODRIGUEZ  \n",
       "1649  E1367B9C6B8544CA9087635972C31DD9        Slickwater   EFRAIN GONZALES  \n",
       "\n",
       "[1650 rows x 149 columns]"
      ]
     },
     "execution_count": 10,
     "metadata": {},
     "output_type": "execute_result"
    }
   ],
   "source": [
    "new_rcompl"
   ]
  },
  {
   "cell_type": "code",
   "execution_count": 10,
   "metadata": {},
   "outputs": [],
   "source": [
    "# Export data\n",
    "new_rcompl.to_excel(path + \"RCOMPL_RIG_SCALED_REPLACE.xlsx\")"
   ]
  },
  {
   "cell_type": "markdown",
   "metadata": {},
   "source": [
    "## Stimulation Stage"
   ]
  },
  {
   "cell_type": "code",
   "execution_count": 11,
   "metadata": {},
   "outputs": [],
   "source": [
    "# read in data\n",
    "data_stmstg = pd.read_excel(path + \"STMSTG_KNN_IMPUTED.xlsx\")"
   ]
  },
  {
   "cell_type": "code",
   "execution_count": 12,
   "metadata": {},
   "outputs": [],
   "source": [
    "# Take all the contractors\n",
    "unique_rigs = data_stmstg[\"CONTRACTOR\"].unique()"
   ]
  },
  {
   "cell_type": "code",
   "execution_count": 13,
   "metadata": {},
   "outputs": [
    {
     "name": "stdout",
     "output_type": "stream",
     "text": [
      "CONTRACTOR - 2019000008  has  3455  elements.\n",
      "CONTRACTOR - 2019000027  has  8790  elements.\n",
      "CONTRACTOR - 2019000030  has  3825  elements.\n",
      "CONTRACTOR - 2019000023  has  1191  elements.\n",
      "CONTRACTOR - 2019000051  has  460  elements.\n"
     ]
    }
   ],
   "source": [
    "# find out how many each contractor has\n",
    "total_entries = []\n",
    "\n",
    "for i in unique_rigs:\n",
    "    temp_pd = data_stmstg[data_stmstg[\"CONTRACTOR\"] == i]\n",
    "    print(i, \" has \", len(temp_pd), \" elements.\")\n",
    "    total_entries.append(len(temp_pd))"
   ]
  },
  {
   "cell_type": "code",
   "execution_count": 5,
   "metadata": {},
   "outputs": [
    {
     "data": {
      "text/plain": [
       "[3455, 8790, 3825, 1191, 460]"
      ]
     },
     "execution_count": 5,
     "metadata": {},
     "output_type": "execute_result"
    }
   ],
   "source": [
    "total_entries"
   ]
  },
  {
   "cell_type": "code",
   "execution_count": 14,
   "metadata": {},
   "outputs": [
    {
     "name": "stdout",
     "output_type": "stream",
     "text": [
      "total sum 17721\n"
     ]
    }
   ],
   "source": [
    "# sum the total entries and divide by the number of contractors\n",
    "# to find out how many entries each contractor must have to be equal\n",
    "sum_stmstg = 0\n",
    "\n",
    "for i in total_entries:\n",
    "    sum_stmstg += i\n",
    "\n",
    "print(\"total sum\", sum_stmstg)\n",
    "tot_samples = sum_stmstg // 5"
   ]
  },
  {
   "cell_type": "code",
   "execution_count": 15,
   "metadata": {},
   "outputs": [
    {
     "data": {
      "text/plain": [
       "3544"
      ]
     },
     "execution_count": 15,
     "metadata": {},
     "output_type": "execute_result"
    }
   ],
   "source": [
    "tot_samples"
   ]
  },
  {
   "cell_type": "code",
   "execution_count": 16,
   "metadata": {},
   "outputs": [],
   "source": [
    "# Now taking that sample while having replacement\n",
    "new_stmstg = pd.DataFrame(columns = data_stmstg.columns)\n",
    "\n",
    "for i in range(0, len(unique_rigs)):\n",
    "    temp_pd = data_stmstg[data_stmstg[\"CONTRACTOR\"] == unique_rigs[i]]\n",
    "    temp_pd = temp_pd.sample(n = tot_samples, replace = True)\n",
    "    new_stmstg = new_stmstg.append(temp_pd, ignore_index=True)"
   ]
  },
  {
   "cell_type": "code",
   "execution_count": 11,
   "metadata": {},
   "outputs": [],
   "source": [
    "# Export the data\n",
    "new_stmstg.to_excel(path + \"STMSTG_RIG_SCALED_REPLACE.xlsx\", index = False)"
   ]
  }
 ],
 "metadata": {
  "kernelspec": {
   "display_name": "Python 3",
   "language": "python",
   "name": "python3"
  },
  "language_info": {
   "codemirror_mode": {
    "name": "ipython",
    "version": 3
   },
   "file_extension": ".py",
   "mimetype": "text/x-python",
   "name": "python",
   "nbconvert_exporter": "python",
   "pygments_lexer": "ipython3",
   "version": "3.6.11"
  }
 },
 "nbformat": 4,
 "nbformat_minor": 4
}
