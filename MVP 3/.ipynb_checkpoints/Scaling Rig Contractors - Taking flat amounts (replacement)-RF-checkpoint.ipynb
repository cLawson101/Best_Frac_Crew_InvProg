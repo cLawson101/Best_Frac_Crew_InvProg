{
 "cells": [
  {
   "cell_type": "markdown",
   "metadata": {},
   "source": [
    "# Sampling Rig Contractors - RF\n",
    "\n",
    "Here we will tackle the problem of contractors not having enough entries to compete with other contractors by simply making it so that we can sample with replacement.\n",
    "\n",
    "This will help to amplify the results of the smaller contractors"
   ]
  },
  {
   "cell_type": "code",
   "execution_count": 1,
   "metadata": {},
   "outputs": [],
   "source": [
    "from time import time\n",
    "import numpy as np\n",
    "import matplotlib.pyplot as plt\n",
    "\n",
    "from sklearn import metrics\n",
    "from sklearn.cluster import KMeans\n",
    "from sklearn.datasets import load_digits\n",
    "from sklearn.decomposition import PCA\n",
    "from sklearn.preprocessing import scale\n",
    "\n",
    "import pandas as pd\n",
    "import matplotlib.pyplot as plt\n",
    "%matplotlib inline\n",
    "import numpy as np\n",
    "import seaborn as sns\n",
    "from sklearn.model_selection import train_test_split\n",
    "import os\n",
    "import torch\n",
    "from torch import nn\n",
    "from torch.autograd import Variable\n",
    "import torch.nn.functional as F\n",
    "\n",
    "from sklearn.preprocessing import MinMaxScaler\n",
    "from sklearn.preprocessing import LabelEncoder\n",
    "from sklearn.model_selection import train_test_split"
   ]
  },
  {
   "cell_type": "markdown",
   "metadata": {},
   "source": [
    "## Establishing Path"
   ]
  },
  {
   "cell_type": "code",
   "execution_count": 2,
   "metadata": {},
   "outputs": [],
   "source": [
    "path = \"../SHARED/\""
   ]
  },
  {
   "cell_type": "markdown",
   "metadata": {},
   "source": [
    "## Recompletion"
   ]
  },
  {
   "cell_type": "code",
   "execution_count": 3,
   "metadata": {},
   "outputs": [],
   "source": [
    "# read in the data\n",
    "data_rcompl = pd.read_excel(path + \"RF_imputed_TO_TACC_RCOMPL.xlsx\")"
   ]
  },
  {
   "cell_type": "code",
   "execution_count": 4,
   "metadata": {},
   "outputs": [],
   "source": [
    "# get all the contractors\n",
    "unique_rigs = data_rcompl[\"CONTRACTOR\"].unique()"
   ]
  },
  {
   "cell_type": "code",
   "execution_count": 5,
   "metadata": {},
   "outputs": [
    {
     "name": "stdout",
     "output_type": "stream",
     "text": [
      "2  has  805  elements.\n",
      "0  has  259  elements.\n",
      "4  has  22  elements.\n",
      "3  has  403  elements.\n",
      "1  has  165  elements.\n"
     ]
    }
   ],
   "source": [
    "# find out how many entries they have\n",
    "total_entries = []\n",
    "\n",
    "for i in unique_rigs:\n",
    "    temp_pd = data_rcompl[data_rcompl[\"CONTRACTOR\"] == i]\n",
    "    print(i, \" has \", len(temp_pd), \" elements.\")\n",
    "    total_entries.append(len(temp_pd))"
   ]
  },
  {
   "cell_type": "code",
   "execution_count": 6,
   "metadata": {},
   "outputs": [
    {
     "data": {
      "text/plain": [
       "[805, 259, 22, 403, 165]"
      ]
     },
     "execution_count": 6,
     "metadata": {},
     "output_type": "execute_result"
    }
   ],
   "source": [
    "total_entries"
   ]
  },
  {
   "cell_type": "code",
   "execution_count": 7,
   "metadata": {},
   "outputs": [],
   "source": [
    "# sum the total entries and divide by the number of contractors\n",
    "# to find out how many entries each contractor must have to be equal\n",
    "sum_rcompl = 0\n",
    "\n",
    "for i in total_entries:\n",
    "    sum_rcompl += i\n",
    "\n",
    "tot_samples = sum_rcompl // 5"
   ]
  },
  {
   "cell_type": "code",
   "execution_count": 8,
   "metadata": {},
   "outputs": [
    {
     "data": {
      "text/plain": [
       "330"
      ]
     },
     "execution_count": 8,
     "metadata": {},
     "output_type": "execute_result"
    }
   ],
   "source": [
    "tot_samples"
   ]
  },
  {
   "cell_type": "code",
   "execution_count": 9,
   "metadata": {},
   "outputs": [],
   "source": [
    "# Now taking that sample while having replacement\n",
    "new_rcompl = pd.DataFrame(columns = data_rcompl.columns)\n",
    "\n",
    "for i in range(0, len(unique_rigs)):\n",
    "    temp_pd = data_rcompl[data_rcompl[\"CONTRACTOR\"] == unique_rigs[i]]\n",
    "    temp_pd = temp_pd.sample(n = tot_samples, replace = True)\n",
    "    new_rcompl = new_rcompl.append(temp_pd, ignore_index=True)"
   ]
  },
  {
   "cell_type": "code",
   "execution_count": 10,
   "metadata": {},
   "outputs": [
    {
     "data": {
      "text/html": [
       "<div>\n",
       "<style scoped>\n",
       "    .dataframe tbody tr th:only-of-type {\n",
       "        vertical-align: middle;\n",
       "    }\n",
       "\n",
       "    .dataframe tbody tr th {\n",
       "        vertical-align: top;\n",
       "    }\n",
       "\n",
       "    .dataframe thead th {\n",
       "        text-align: right;\n",
       "    }\n",
       "</style>\n",
       "<table border=\"1\" class=\"dataframe\">\n",
       "  <thead>\n",
       "    <tr style=\"text-align: right;\">\n",
       "      <th></th>\n",
       "      <th>#WELL_NAME</th>\n",
       "      <th>CURRENT_STATUS</th>\n",
       "      <th>JOB_CATEGORY</th>\n",
       "      <th>JOB_START_DATE</th>\n",
       "      <th>JOB_END_DATE</th>\n",
       "      <th>JOB_STATUS</th>\n",
       "      <th>LIKE_KIND</th>\n",
       "      <th>PROJECT_TYPE</th>\n",
       "      <th>PHASE_START_DATE</th>\n",
       "      <th>PHASE_END_DATE</th>\n",
       "      <th>...</th>\n",
       "      <th>PROPPANT_IN_FORMATION</th>\n",
       "      <th>STG_NUMBER</th>\n",
       "      <th>STG_TOP_DEPTH</th>\n",
       "      <th>STG_BOTTOM_DEPTH</th>\n",
       "      <th>STG_CLEAN_VOLUME_PUMPED</th>\n",
       "      <th>STG_SLURRY_VOLUME_PUMPED</th>\n",
       "      <th>BOTTOM_DEPTH_TVD</th>\n",
       "      <th>Rig_Duration (days)</th>\n",
       "      <th>Stg_Duration (hrs)</th>\n",
       "      <th>Stage_Length (meters)</th>\n",
       "    </tr>\n",
       "  </thead>\n",
       "  <tbody>\n",
       "    <tr>\n",
       "      <th>0</th>\n",
       "      <td>51</td>\n",
       "      <td>0</td>\n",
       "      <td>0</td>\n",
       "      <td>63</td>\n",
       "      <td>12</td>\n",
       "      <td>0</td>\n",
       "      <td>3</td>\n",
       "      <td>0</td>\n",
       "      <td>64</td>\n",
       "      <td>2</td>\n",
       "      <td>...</td>\n",
       "      <td>253690</td>\n",
       "      <td>14</td>\n",
       "      <td>13500</td>\n",
       "      <td>16162</td>\n",
       "      <td>8192</td>\n",
       "      <td>8464</td>\n",
       "      <td>12892</td>\n",
       "      <td>5</td>\n",
       "      <td>4</td>\n",
       "      <td>2662</td>\n",
       "    </tr>\n",
       "    <tr>\n",
       "      <th>1</th>\n",
       "      <td>51</td>\n",
       "      <td>0</td>\n",
       "      <td>0</td>\n",
       "      <td>63</td>\n",
       "      <td>12</td>\n",
       "      <td>0</td>\n",
       "      <td>3</td>\n",
       "      <td>0</td>\n",
       "      <td>64</td>\n",
       "      <td>2</td>\n",
       "      <td>...</td>\n",
       "      <td>255220</td>\n",
       "      <td>17</td>\n",
       "      <td>13500</td>\n",
       "      <td>16162</td>\n",
       "      <td>5196</td>\n",
       "      <td>5463</td>\n",
       "      <td>12892</td>\n",
       "      <td>5</td>\n",
       "      <td>1</td>\n",
       "      <td>2662</td>\n",
       "    </tr>\n",
       "    <tr>\n",
       "      <th>2</th>\n",
       "      <td>31</td>\n",
       "      <td>0</td>\n",
       "      <td>0</td>\n",
       "      <td>62</td>\n",
       "      <td>1</td>\n",
       "      <td>0</td>\n",
       "      <td>3</td>\n",
       "      <td>0</td>\n",
       "      <td>62</td>\n",
       "      <td>3</td>\n",
       "      <td>...</td>\n",
       "      <td>348265</td>\n",
       "      <td>13</td>\n",
       "      <td>13391</td>\n",
       "      <td>18363</td>\n",
       "      <td>7165</td>\n",
       "      <td>7533</td>\n",
       "      <td>12914</td>\n",
       "      <td>4</td>\n",
       "      <td>1</td>\n",
       "      <td>4972</td>\n",
       "    </tr>\n",
       "    <tr>\n",
       "      <th>3</th>\n",
       "      <td>44</td>\n",
       "      <td>0</td>\n",
       "      <td>0</td>\n",
       "      <td>7</td>\n",
       "      <td>13</td>\n",
       "      <td>1</td>\n",
       "      <td>2</td>\n",
       "      <td>0</td>\n",
       "      <td>8</td>\n",
       "      <td>15</td>\n",
       "      <td>...</td>\n",
       "      <td>374060</td>\n",
       "      <td>12</td>\n",
       "      <td>13154</td>\n",
       "      <td>17323</td>\n",
       "      <td>8062</td>\n",
       "      <td>8459</td>\n",
       "      <td>12876</td>\n",
       "      <td>4</td>\n",
       "      <td>2</td>\n",
       "      <td>4169</td>\n",
       "    </tr>\n",
       "    <tr>\n",
       "      <th>4</th>\n",
       "      <td>18</td>\n",
       "      <td>0</td>\n",
       "      <td>0</td>\n",
       "      <td>59</td>\n",
       "      <td>5</td>\n",
       "      <td>1</td>\n",
       "      <td>2</td>\n",
       "      <td>0</td>\n",
       "      <td>59</td>\n",
       "      <td>56</td>\n",
       "      <td>...</td>\n",
       "      <td>556000</td>\n",
       "      <td>16</td>\n",
       "      <td>13051</td>\n",
       "      <td>17994</td>\n",
       "      <td>9752</td>\n",
       "      <td>10352</td>\n",
       "      <td>12792</td>\n",
       "      <td>122</td>\n",
       "      <td>2</td>\n",
       "      <td>4943</td>\n",
       "    </tr>\n",
       "    <tr>\n",
       "      <th>...</th>\n",
       "      <td>...</td>\n",
       "      <td>...</td>\n",
       "      <td>...</td>\n",
       "      <td>...</td>\n",
       "      <td>...</td>\n",
       "      <td>...</td>\n",
       "      <td>...</td>\n",
       "      <td>...</td>\n",
       "      <td>...</td>\n",
       "      <td>...</td>\n",
       "      <td>...</td>\n",
       "      <td>...</td>\n",
       "      <td>...</td>\n",
       "      <td>...</td>\n",
       "      <td>...</td>\n",
       "      <td>...</td>\n",
       "      <td>...</td>\n",
       "      <td>...</td>\n",
       "      <td>...</td>\n",
       "      <td>...</td>\n",
       "      <td>...</td>\n",
       "    </tr>\n",
       "    <tr>\n",
       "      <th>1645</th>\n",
       "      <td>17</td>\n",
       "      <td>0</td>\n",
       "      <td>0</td>\n",
       "      <td>56</td>\n",
       "      <td>17</td>\n",
       "      <td>1</td>\n",
       "      <td>2</td>\n",
       "      <td>0</td>\n",
       "      <td>55</td>\n",
       "      <td>52</td>\n",
       "      <td>...</td>\n",
       "      <td>380640</td>\n",
       "      <td>14</td>\n",
       "      <td>13139</td>\n",
       "      <td>18294</td>\n",
       "      <td>9143</td>\n",
       "      <td>9547</td>\n",
       "      <td>12875</td>\n",
       "      <td>6</td>\n",
       "      <td>2</td>\n",
       "      <td>5155</td>\n",
       "    </tr>\n",
       "    <tr>\n",
       "      <th>1646</th>\n",
       "      <td>0</td>\n",
       "      <td>0</td>\n",
       "      <td>0</td>\n",
       "      <td>51</td>\n",
       "      <td>15</td>\n",
       "      <td>1</td>\n",
       "      <td>0</td>\n",
       "      <td>0</td>\n",
       "      <td>52</td>\n",
       "      <td>51</td>\n",
       "      <td>...</td>\n",
       "      <td>328240</td>\n",
       "      <td>13</td>\n",
       "      <td>11975</td>\n",
       "      <td>14975</td>\n",
       "      <td>9933</td>\n",
       "      <td>10288</td>\n",
       "      <td>11650</td>\n",
       "      <td>6</td>\n",
       "      <td>2</td>\n",
       "      <td>3000</td>\n",
       "    </tr>\n",
       "    <tr>\n",
       "      <th>1647</th>\n",
       "      <td>34</td>\n",
       "      <td>0</td>\n",
       "      <td>0</td>\n",
       "      <td>30</td>\n",
       "      <td>15</td>\n",
       "      <td>0</td>\n",
       "      <td>3</td>\n",
       "      <td>0</td>\n",
       "      <td>31</td>\n",
       "      <td>32</td>\n",
       "      <td>...</td>\n",
       "      <td>243840</td>\n",
       "      <td>22</td>\n",
       "      <td>12730</td>\n",
       "      <td>17098</td>\n",
       "      <td>6923</td>\n",
       "      <td>7178</td>\n",
       "      <td>12262</td>\n",
       "      <td>6</td>\n",
       "      <td>2</td>\n",
       "      <td>4368</td>\n",
       "    </tr>\n",
       "    <tr>\n",
       "      <th>1648</th>\n",
       "      <td>0</td>\n",
       "      <td>0</td>\n",
       "      <td>0</td>\n",
       "      <td>51</td>\n",
       "      <td>12</td>\n",
       "      <td>1</td>\n",
       "      <td>0</td>\n",
       "      <td>0</td>\n",
       "      <td>52</td>\n",
       "      <td>51</td>\n",
       "      <td>...</td>\n",
       "      <td>278160</td>\n",
       "      <td>7</td>\n",
       "      <td>11975</td>\n",
       "      <td>14975</td>\n",
       "      <td>7770</td>\n",
       "      <td>8078</td>\n",
       "      <td>11650</td>\n",
       "      <td>6</td>\n",
       "      <td>1</td>\n",
       "      <td>3000</td>\n",
       "    </tr>\n",
       "    <tr>\n",
       "      <th>1649</th>\n",
       "      <td>49</td>\n",
       "      <td>0</td>\n",
       "      <td>0</td>\n",
       "      <td>66</td>\n",
       "      <td>2</td>\n",
       "      <td>0</td>\n",
       "      <td>3</td>\n",
       "      <td>0</td>\n",
       "      <td>0</td>\n",
       "      <td>13</td>\n",
       "      <td>...</td>\n",
       "      <td>352280</td>\n",
       "      <td>23</td>\n",
       "      <td>13002</td>\n",
       "      <td>18072</td>\n",
       "      <td>6749</td>\n",
       "      <td>7128</td>\n",
       "      <td>12154</td>\n",
       "      <td>60</td>\n",
       "      <td>1</td>\n",
       "      <td>5070</td>\n",
       "    </tr>\n",
       "  </tbody>\n",
       "</table>\n",
       "<p>1650 rows × 79 columns</p>\n",
       "</div>"
      ],
      "text/plain": [
       "     #WELL_NAME CURRENT_STATUS JOB_CATEGORY JOB_START_DATE JOB_END_DATE  \\\n",
       "0            51              0            0             63           12   \n",
       "1            51              0            0             63           12   \n",
       "2            31              0            0             62            1   \n",
       "3            44              0            0              7           13   \n",
       "4            18              0            0             59            5   \n",
       "...         ...            ...          ...            ...          ...   \n",
       "1645         17              0            0             56           17   \n",
       "1646          0              0            0             51           15   \n",
       "1647         34              0            0             30           15   \n",
       "1648          0              0            0             51           12   \n",
       "1649         49              0            0             66            2   \n",
       "\n",
       "     JOB_STATUS LIKE_KIND PROJECT_TYPE PHASE_START_DATE PHASE_END_DATE  ...  \\\n",
       "0             0         3            0               64              2  ...   \n",
       "1             0         3            0               64              2  ...   \n",
       "2             0         3            0               62              3  ...   \n",
       "3             1         2            0                8             15  ...   \n",
       "4             1         2            0               59             56  ...   \n",
       "...         ...       ...          ...              ...            ...  ...   \n",
       "1645          1         2            0               55             52  ...   \n",
       "1646          1         0            0               52             51  ...   \n",
       "1647          0         3            0               31             32  ...   \n",
       "1648          1         0            0               52             51  ...   \n",
       "1649          0         3            0                0             13  ...   \n",
       "\n",
       "     PROPPANT_IN_FORMATION STG_NUMBER STG_TOP_DEPTH STG_BOTTOM_DEPTH  \\\n",
       "0                   253690         14         13500            16162   \n",
       "1                   255220         17         13500            16162   \n",
       "2                   348265         13         13391            18363   \n",
       "3                   374060         12         13154            17323   \n",
       "4                   556000         16         13051            17994   \n",
       "...                    ...        ...           ...              ...   \n",
       "1645                380640         14         13139            18294   \n",
       "1646                328240         13         11975            14975   \n",
       "1647                243840         22         12730            17098   \n",
       "1648                278160          7         11975            14975   \n",
       "1649                352280         23         13002            18072   \n",
       "\n",
       "     STG_CLEAN_VOLUME_PUMPED STG_SLURRY_VOLUME_PUMPED BOTTOM_DEPTH_TVD  \\\n",
       "0                       8192                     8464            12892   \n",
       "1                       5196                     5463            12892   \n",
       "2                       7165                     7533            12914   \n",
       "3                       8062                     8459            12876   \n",
       "4                       9752                    10352            12792   \n",
       "...                      ...                      ...              ...   \n",
       "1645                    9143                     9547            12875   \n",
       "1646                    9933                    10288            11650   \n",
       "1647                    6923                     7178            12262   \n",
       "1648                    7770                     8078            11650   \n",
       "1649                    6749                     7128            12154   \n",
       "\n",
       "     Rig_Duration (days) Stg_Duration (hrs) Stage_Length (meters)  \n",
       "0                      5                  4                  2662  \n",
       "1                      5                  1                  2662  \n",
       "2                      4                  1                  4972  \n",
       "3                      4                  2                  4169  \n",
       "4                    122                  2                  4943  \n",
       "...                  ...                ...                   ...  \n",
       "1645                   6                  2                  5155  \n",
       "1646                   6                  2                  3000  \n",
       "1647                   6                  2                  4368  \n",
       "1648                   6                  1                  3000  \n",
       "1649                  60                  1                  5070  \n",
       "\n",
       "[1650 rows x 79 columns]"
      ]
     },
     "execution_count": 10,
     "metadata": {},
     "output_type": "execute_result"
    }
   ],
   "source": [
    "new_rcompl"
   ]
  },
  {
   "cell_type": "code",
   "execution_count": 12,
   "metadata": {},
   "outputs": [],
   "source": [
    "# Export data\n",
    "new_rcompl.to_excel(path + \"RF_RCOMPL_RIG_SCALED_REPLACE.xlsx\")"
   ]
  },
  {
   "cell_type": "markdown",
   "metadata": {},
   "source": [
    "## Stimulation Stage"
   ]
  },
  {
   "cell_type": "code",
   "execution_count": 13,
   "metadata": {},
   "outputs": [],
   "source": [
    "# read in data\n",
    "data_stmstg = pd.read_excel(path + \"RF_imputed_TO_TACC_STM_STG.xlsx\")"
   ]
  },
  {
   "cell_type": "code",
   "execution_count": 14,
   "metadata": {},
   "outputs": [],
   "source": [
    "# Take all the contractors\n",
    "unique_rigs = data_stmstg[\"CONTRACTOR\"].unique()"
   ]
  },
  {
   "cell_type": "code",
   "execution_count": 15,
   "metadata": {},
   "outputs": [
    {
     "name": "stdout",
     "output_type": "stream",
     "text": [
      "2  has  330  elements.\n",
      "0  has  330  elements.\n",
      "4  has  330  elements.\n",
      "3  has  330  elements.\n",
      "1  has  330  elements.\n"
     ]
    }
   ],
   "source": [
    "# find out how many each contractor has\n",
    "total_entries = []\n",
    "\n",
    "for i in unique_rigs:\n",
    "    temp_pd = data_stmstg[data_stmstg[\"CONTRACTOR\"] == i]\n",
    "    print(i, \" has \", len(temp_pd), \" elements.\")\n",
    "    total_entries.append(len(temp_pd))"
   ]
  },
  {
   "cell_type": "code",
   "execution_count": 16,
   "metadata": {},
   "outputs": [
    {
     "data": {
      "text/plain": [
       "[330, 330, 330, 330, 330]"
      ]
     },
     "execution_count": 16,
     "metadata": {},
     "output_type": "execute_result"
    }
   ],
   "source": [
    "total_entries"
   ]
  },
  {
   "cell_type": "code",
   "execution_count": 17,
   "metadata": {},
   "outputs": [
    {
     "name": "stdout",
     "output_type": "stream",
     "text": [
      "total sum 1650\n"
     ]
    }
   ],
   "source": [
    "# sum the total entries and divide by the number of contractors\n",
    "# to find out how many entries each contractor must have to be equal\n",
    "sum_stmstg = 0\n",
    "\n",
    "for i in total_entries:\n",
    "    sum_stmstg += i\n",
    "\n",
    "print(\"total sum\", sum_stmstg)\n",
    "tot_samples = sum_stmstg // 5"
   ]
  },
  {
   "cell_type": "code",
   "execution_count": 18,
   "metadata": {},
   "outputs": [
    {
     "data": {
      "text/plain": [
       "330"
      ]
     },
     "execution_count": 18,
     "metadata": {},
     "output_type": "execute_result"
    }
   ],
   "source": [
    "tot_samples"
   ]
  },
  {
   "cell_type": "code",
   "execution_count": 19,
   "metadata": {},
   "outputs": [],
   "source": [
    "# Now taking that sample while having replacement\n",
    "new_stmstg = pd.DataFrame(columns = data_stmstg.columns)\n",
    "\n",
    "for i in range(0, len(unique_rigs)):\n",
    "    temp_pd = data_stmstg[data_stmstg[\"CONTRACTOR\"] == unique_rigs[i]]\n",
    "    temp_pd = temp_pd.sample(n = tot_samples, replace = True)\n",
    "    new_stmstg = new_stmstg.append(temp_pd, ignore_index=True)"
   ]
  },
  {
   "cell_type": "code",
   "execution_count": 11,
   "metadata": {},
   "outputs": [],
   "source": [
    "# Export the data\n",
    "new_stmstg.to_excel(path + \"RF_STMSTG_RIG_SCALED_REPLACE.xlsx\", index = False)"
   ]
  }
 ],
 "metadata": {
  "kernelspec": {
   "display_name": "Python 3",
   "language": "python",
   "name": "python3"
  },
  "language_info": {
   "codemirror_mode": {
    "name": "ipython",
    "version": 3
   },
   "file_extension": ".py",
   "mimetype": "text/x-python",
   "name": "python",
   "nbconvert_exporter": "python",
   "pygments_lexer": "ipython3",
   "version": "3.6.11"
  }
 },
 "nbformat": 4,
 "nbformat_minor": 4
}
