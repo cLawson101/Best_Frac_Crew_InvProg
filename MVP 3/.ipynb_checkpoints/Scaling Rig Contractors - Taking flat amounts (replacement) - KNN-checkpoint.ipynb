{
 "cells": [
  {
   "cell_type": "markdown",
   "metadata": {},
   "source": [
    "# Sampling Rig Contractors\n",
    "\n",
    "Here we will tackle the problem of contractors not having enough entries to compete with other contractors by simply making it so that we can sample with replacement.\n",
    "\n",
    "This will help to amplify the results of the smaller contractors"
   ]
  },
  {
   "cell_type": "code",
   "execution_count": 1,
   "metadata": {},
   "outputs": [],
   "source": [
    "from time import time\n",
    "import numpy as np\n",
    "import matplotlib.pyplot as plt\n",
    "\n",
    "from sklearn import metrics\n",
    "from sklearn.cluster import KMeans\n",
    "from sklearn.datasets import load_digits\n",
    "from sklearn.decomposition import PCA\n",
    "from sklearn.preprocessing import scale\n",
    "\n",
    "import pandas as pd\n",
    "import matplotlib.pyplot as plt\n",
    "%matplotlib inline\n",
    "import numpy as np\n",
    "import seaborn as sns\n",
    "from sklearn.model_selection import train_test_split\n",
    "import os\n",
    "import torch\n",
    "from torch import nn\n",
    "from torch.autograd import Variable\n",
    "import torch.nn.functional as F\n",
    "\n",
    "from sklearn.preprocessing import MinMaxScaler\n",
    "from sklearn.preprocessing import LabelEncoder\n",
    "from sklearn.model_selection import train_test_split"
   ]
  },
  {
   "cell_type": "code",
   "execution_count": null,
   "metadata": {},
   "outputs": [],
   "source": [
    "# Establishing Path"
   ]
  },
  {
   "cell_type": "code",
   "execution_count": 2,
   "metadata": {},
   "outputs": [],
   "source": [
    "data_rcompl = pd.read_excel(\"RCOMPL_KNN_IMPUTED.xlsx\")"
   ]
  },
  {
   "cell_type": "code",
   "execution_count": 3,
   "metadata": {},
   "outputs": [],
   "source": [
    "unique_rigs = data_rcompl[\"CONTRACTOR\"].unique()"
   ]
  },
  {
   "cell_type": "code",
   "execution_count": 4,
   "metadata": {},
   "outputs": [
    {
     "name": "stdout",
     "output_type": "stream",
     "text": [
      "CONTRACTOR - 2019000027  has  805  elements.\n",
      "CONTRACTOR - 2019000030  has  403  elements.\n",
      "CONTRACTOR - 2019000023  has  165  elements.\n",
      "CONTRACTOR - 2019000008  has  259  elements.\n",
      "CONTRACTOR - 2019000051  has  22  elements.\n"
     ]
    }
   ],
   "source": [
    "total_entries = []\n",
    "\n",
    "for i in unique_rigs:\n",
    "    temp_pd = data_rcompl[data_rcompl[\"CONTRACTOR\"] == i]\n",
    "    print(i, \" has \", len(temp_pd), \" elements.\")\n",
    "    total_entries.append(len(temp_pd))"
   ]
  },
  {
   "cell_type": "code",
   "execution_count": 5,
   "metadata": {},
   "outputs": [
    {
     "data": {
      "text/plain": [
       "[805, 403, 165, 259, 22]"
      ]
     },
     "execution_count": 5,
     "metadata": {},
     "output_type": "execute_result"
    }
   ],
   "source": [
    "total_entries"
   ]
  },
  {
   "cell_type": "code",
   "execution_count": 6,
   "metadata": {},
   "outputs": [],
   "source": [
    "sum_rcompl = 0\n",
    "\n",
    "for i in total_entries:\n",
    "    sum_rcompl += i\n",
    "\n",
    "tot_samples = sum_rcompl // 5"
   ]
  },
  {
   "cell_type": "code",
   "execution_count": 7,
   "metadata": {},
   "outputs": [
    {
     "data": {
      "text/plain": [
       "330"
      ]
     },
     "execution_count": 7,
     "metadata": {},
     "output_type": "execute_result"
    }
   ],
   "source": [
    "tot_samples"
   ]
  },
  {
   "cell_type": "code",
   "execution_count": 8,
   "metadata": {},
   "outputs": [],
   "source": [
    "new_rcompl = pd.DataFrame(columns = data_rcompl.columns)\n",
    "\n",
    "for i in range(0, len(unique_rigs)):\n",
    "    temp_pd = data_rcompl[data_rcompl[\"CONTRACTOR\"] == unique_rigs[i]]\n",
    "    temp_pd = temp_pd.sample(n = tot_samples, replace = True)\n",
    "    new_rcompl = new_rcompl.append(temp_pd, ignore_index=True)"
   ]
  },
  {
   "cell_type": "code",
   "execution_count": 9,
   "metadata": {},
   "outputs": [
    {
     "data": {
      "text/html": [
       "<div>\n",
       "<style scoped>\n",
       "    .dataframe tbody tr th:only-of-type {\n",
       "        vertical-align: middle;\n",
       "    }\n",
       "\n",
       "    .dataframe tbody tr th {\n",
       "        vertical-align: top;\n",
       "    }\n",
       "\n",
       "    .dataframe thead th {\n",
       "        text-align: right;\n",
       "    }\n",
       "</style>\n",
       "<table border=\"1\" class=\"dataframe\">\n",
       "  <thead>\n",
       "    <tr style=\"text-align: right;\">\n",
       "      <th></th>\n",
       "      <th>UWI</th>\n",
       "      <th>UWI_SIDETRACK</th>\n",
       "      <th>REPORT_START_DATE_YEAR</th>\n",
       "      <th>FRAC_GRADIENT</th>\n",
       "      <th>BREAKDOWN_PRESSURE</th>\n",
       "      <th>HYDROSTATIC_PRESSURE</th>\n",
       "      <th>TREAT_AVG_PRESSURE</th>\n",
       "      <th>TREAT_MAX_PRESSURE</th>\n",
       "      <th>TREAT_MIN_PRESSURE</th>\n",
       "      <th>PROPPANT_DESIGNED</th>\n",
       "      <th>...</th>\n",
       "      <th>DIVERSION_COMPANY</th>\n",
       "      <th>DIVERSION_METHOD</th>\n",
       "      <th>DELIVERY_MODE</th>\n",
       "      <th>BOTTOM_HOLE_PRESSURE_METHOD</th>\n",
       "      <th>CLOSURE_PRESSURE_METHOD</th>\n",
       "      <th>STIMULATION_RESULT</th>\n",
       "      <th>STIMULATION_RESULT_DETAIL</th>\n",
       "      <th>STIMTREAT_ID</th>\n",
       "      <th>FLUID_NAME</th>\n",
       "      <th>SITE_SUPERVISOR</th>\n",
       "    </tr>\n",
       "  </thead>\n",
       "  <tbody>\n",
       "    <tr>\n",
       "      <th>0</th>\n",
       "      <td>2019000635</td>\n",
       "      <td>0</td>\n",
       "      <td>2019</td>\n",
       "      <td>1.0</td>\n",
       "      <td>7153.0</td>\n",
       "      <td>5588.0</td>\n",
       "      <td>9343.0</td>\n",
       "      <td>9588.0</td>\n",
       "      <td>7618.0</td>\n",
       "      <td>366938</td>\n",
       "      <td>...</td>\n",
       "      <td>DIVERSION_COMPANY - 2019000003</td>\n",
       "      <td>Frac Plug</td>\n",
       "      <td>Casing</td>\n",
       "      <td>Calculated</td>\n",
       "      <td>Nolte-Smith Calc</td>\n",
       "      <td>Success</td>\n",
       "      <td>According to Plan</td>\n",
       "      <td>6D773B3833D24F938D3D57021B44C9F3</td>\n",
       "      <td>FR</td>\n",
       "      <td>ADEMAR GALVAN</td>\n",
       "    </tr>\n",
       "    <tr>\n",
       "      <th>1</th>\n",
       "      <td>2019000635</td>\n",
       "      <td>0</td>\n",
       "      <td>2019</td>\n",
       "      <td>1.0</td>\n",
       "      <td>7537.0</td>\n",
       "      <td>5577.0</td>\n",
       "      <td>9390.0</td>\n",
       "      <td>9543.0</td>\n",
       "      <td>7618.0</td>\n",
       "      <td>366938</td>\n",
       "      <td>...</td>\n",
       "      <td>DIVERSION_COMPANY - 2019000003</td>\n",
       "      <td>Frac Plug</td>\n",
       "      <td>Casing</td>\n",
       "      <td>Calculated</td>\n",
       "      <td>Nolte-Smith Calc</td>\n",
       "      <td>Success</td>\n",
       "      <td>According to Plan</td>\n",
       "      <td>DBE8AD7785E5406DAE6641814B10DF41</td>\n",
       "      <td>FR</td>\n",
       "      <td>JAVIER SOLIS</td>\n",
       "    </tr>\n",
       "    <tr>\n",
       "      <th>2</th>\n",
       "      <td>2019001382</td>\n",
       "      <td>0</td>\n",
       "      <td>2017</td>\n",
       "      <td>1.0</td>\n",
       "      <td>7006.0</td>\n",
       "      <td>5430.0</td>\n",
       "      <td>8666.0</td>\n",
       "      <td>9267.0</td>\n",
       "      <td>7006.0</td>\n",
       "      <td>520000</td>\n",
       "      <td>...</td>\n",
       "      <td>DIVERSION_COMPANY - 2019000028</td>\n",
       "      <td>NONE</td>\n",
       "      <td>Casing</td>\n",
       "      <td>Calculated</td>\n",
       "      <td>Nolte-Smith Calc</td>\n",
       "      <td>Success</td>\n",
       "      <td>According to Plan</td>\n",
       "      <td>91F9041D448F44A2AF179016A20682BB</td>\n",
       "      <td>20# GUAR BORATE</td>\n",
       "      <td>DAVE MALOTT/TRAVIS RODDOUT</td>\n",
       "    </tr>\n",
       "    <tr>\n",
       "      <th>3</th>\n",
       "      <td>2019000635</td>\n",
       "      <td>0</td>\n",
       "      <td>2019</td>\n",
       "      <td>1.0</td>\n",
       "      <td>8536.0</td>\n",
       "      <td>5543.0</td>\n",
       "      <td>9272.0</td>\n",
       "      <td>9492.0</td>\n",
       "      <td>7618.0</td>\n",
       "      <td>366938</td>\n",
       "      <td>...</td>\n",
       "      <td>DIVERSION_COMPANY - 2019000003</td>\n",
       "      <td>Frac Plug</td>\n",
       "      <td>Casing</td>\n",
       "      <td>Calculated</td>\n",
       "      <td>Nolte-Smith Calc</td>\n",
       "      <td>Success</td>\n",
       "      <td>According to Plan</td>\n",
       "      <td>1015B798C14043CC833617AA17E52EFF</td>\n",
       "      <td>FR</td>\n",
       "      <td>ADEMAR GALVAN</td>\n",
       "    </tr>\n",
       "    <tr>\n",
       "      <th>4</th>\n",
       "      <td>2019001293</td>\n",
       "      <td>0</td>\n",
       "      <td>2019</td>\n",
       "      <td>1.0</td>\n",
       "      <td>7988.0</td>\n",
       "      <td>5715.0</td>\n",
       "      <td>8270.0</td>\n",
       "      <td>8597.0</td>\n",
       "      <td>7872.0</td>\n",
       "      <td>218700</td>\n",
       "      <td>...</td>\n",
       "      <td>DIVERSION_COMPANY - 2019000003</td>\n",
       "      <td>Unibeads</td>\n",
       "      <td>Casing</td>\n",
       "      <td>Calculated</td>\n",
       "      <td>Nolte-Smith Calc</td>\n",
       "      <td>Success</td>\n",
       "      <td>According to Plan</td>\n",
       "      <td>BDD068A2E89C4DD68150F764D4F09170</td>\n",
       "      <td>25# Guar Borate</td>\n",
       "      <td>NICHOLAS STEPHEN</td>\n",
       "    </tr>\n",
       "    <tr>\n",
       "      <th>...</th>\n",
       "      <td>...</td>\n",
       "      <td>...</td>\n",
       "      <td>...</td>\n",
       "      <td>...</td>\n",
       "      <td>...</td>\n",
       "      <td>...</td>\n",
       "      <td>...</td>\n",
       "      <td>...</td>\n",
       "      <td>...</td>\n",
       "      <td>...</td>\n",
       "      <td>...</td>\n",
       "      <td>...</td>\n",
       "      <td>...</td>\n",
       "      <td>...</td>\n",
       "      <td>...</td>\n",
       "      <td>...</td>\n",
       "      <td>...</td>\n",
       "      <td>...</td>\n",
       "      <td>...</td>\n",
       "      <td>...</td>\n",
       "      <td>...</td>\n",
       "    </tr>\n",
       "    <tr>\n",
       "      <th>1645</th>\n",
       "      <td>2019000278</td>\n",
       "      <td>0</td>\n",
       "      <td>2019</td>\n",
       "      <td>1.0</td>\n",
       "      <td>5560.0</td>\n",
       "      <td>5133.0</td>\n",
       "      <td>8373.0</td>\n",
       "      <td>8729.0</td>\n",
       "      <td>7618.0</td>\n",
       "      <td>367500</td>\n",
       "      <td>...</td>\n",
       "      <td>DIVERSION_COMPANY - 2019000003</td>\n",
       "      <td>Frac Plug</td>\n",
       "      <td>Casing</td>\n",
       "      <td>Calculated</td>\n",
       "      <td>Nolte-Smith Calc</td>\n",
       "      <td>Success</td>\n",
       "      <td>According to Plan</td>\n",
       "      <td>83DE70239D7B47A6A4195F0F476A2BAB</td>\n",
       "      <td>Slickwater</td>\n",
       "      <td>EFRAIN GONZALES</td>\n",
       "    </tr>\n",
       "    <tr>\n",
       "      <th>1646</th>\n",
       "      <td>2019000278</td>\n",
       "      <td>0</td>\n",
       "      <td>2019</td>\n",
       "      <td>1.0</td>\n",
       "      <td>5335.0</td>\n",
       "      <td>5119.2</td>\n",
       "      <td>8561.0</td>\n",
       "      <td>9179.0</td>\n",
       "      <td>7618.0</td>\n",
       "      <td>367500</td>\n",
       "      <td>...</td>\n",
       "      <td>DIVERSION_COMPANY - 2019000003</td>\n",
       "      <td>Frac Plug</td>\n",
       "      <td>Casing</td>\n",
       "      <td>Calculated</td>\n",
       "      <td>Nolte-Smith Calc</td>\n",
       "      <td>Success</td>\n",
       "      <td>According to Plan</td>\n",
       "      <td>ACA7734DDC7D4EB9AA4213B6C7AD9FA8</td>\n",
       "      <td>Slickwater</td>\n",
       "      <td>HECTOR RODRIGUEZ</td>\n",
       "    </tr>\n",
       "    <tr>\n",
       "      <th>1647</th>\n",
       "      <td>2019000278</td>\n",
       "      <td>0</td>\n",
       "      <td>2019</td>\n",
       "      <td>1.0</td>\n",
       "      <td>5319.0</td>\n",
       "      <td>5119.2</td>\n",
       "      <td>8305.0</td>\n",
       "      <td>9116.0</td>\n",
       "      <td>7618.0</td>\n",
       "      <td>367500</td>\n",
       "      <td>...</td>\n",
       "      <td>DIVERSION_COMPANY - 2019000003</td>\n",
       "      <td>Frac Plug</td>\n",
       "      <td>Casing</td>\n",
       "      <td>Calculated</td>\n",
       "      <td>Nolte-Smith Calc</td>\n",
       "      <td>Success</td>\n",
       "      <td>According to Plan</td>\n",
       "      <td>01406199182444F5BFEBD3FD820A6589</td>\n",
       "      <td>Slickwater</td>\n",
       "      <td>ADEMAR GALVAN</td>\n",
       "    </tr>\n",
       "    <tr>\n",
       "      <th>1648</th>\n",
       "      <td>2019000278</td>\n",
       "      <td>0</td>\n",
       "      <td>2019</td>\n",
       "      <td>1.0</td>\n",
       "      <td>5116.0</td>\n",
       "      <td>5122.6</td>\n",
       "      <td>8303.0</td>\n",
       "      <td>8612.0</td>\n",
       "      <td>7618.0</td>\n",
       "      <td>367500</td>\n",
       "      <td>...</td>\n",
       "      <td>DIVERSION_COMPANY - 2019000003</td>\n",
       "      <td>Frac Plug</td>\n",
       "      <td>Casing</td>\n",
       "      <td>Calculated</td>\n",
       "      <td>Nolte-Smith Calc</td>\n",
       "      <td>Success</td>\n",
       "      <td>According to Plan</td>\n",
       "      <td>9486B88B578B414BBBA9A43E8AA92AD2</td>\n",
       "      <td>Slickwater</td>\n",
       "      <td>HECTOR RODRIGUEZ</td>\n",
       "    </tr>\n",
       "    <tr>\n",
       "      <th>1649</th>\n",
       "      <td>2019000278</td>\n",
       "      <td>0</td>\n",
       "      <td>2019</td>\n",
       "      <td>1.0</td>\n",
       "      <td>5762.0</td>\n",
       "      <td>5119.2</td>\n",
       "      <td>8709.0</td>\n",
       "      <td>9160.0</td>\n",
       "      <td>7618.0</td>\n",
       "      <td>367500</td>\n",
       "      <td>...</td>\n",
       "      <td>DIVERSION_COMPANY - 2019000003</td>\n",
       "      <td>Frac Plug</td>\n",
       "      <td>Casing</td>\n",
       "      <td>Calculated</td>\n",
       "      <td>Nolte-Smith Calc</td>\n",
       "      <td>Success</td>\n",
       "      <td>According to Plan</td>\n",
       "      <td>A4CB572C882A463F84D26CAFC60C9465</td>\n",
       "      <td>Slickwater</td>\n",
       "      <td>EFRAIN GONZALES</td>\n",
       "    </tr>\n",
       "  </tbody>\n",
       "</table>\n",
       "<p>1650 rows × 149 columns</p>\n",
       "</div>"
      ],
      "text/plain": [
       "             UWI UWI_SIDETRACK REPORT_START_DATE_YEAR  FRAC_GRADIENT  \\\n",
       "0     2019000635             0                   2019            1.0   \n",
       "1     2019000635             0                   2019            1.0   \n",
       "2     2019001382             0                   2017            1.0   \n",
       "3     2019000635             0                   2019            1.0   \n",
       "4     2019001293             0                   2019            1.0   \n",
       "...          ...           ...                    ...            ...   \n",
       "1645  2019000278             0                   2019            1.0   \n",
       "1646  2019000278             0                   2019            1.0   \n",
       "1647  2019000278             0                   2019            1.0   \n",
       "1648  2019000278             0                   2019            1.0   \n",
       "1649  2019000278             0                   2019            1.0   \n",
       "\n",
       "      BREAKDOWN_PRESSURE  HYDROSTATIC_PRESSURE  TREAT_AVG_PRESSURE  \\\n",
       "0                 7153.0                5588.0              9343.0   \n",
       "1                 7537.0                5577.0              9390.0   \n",
       "2                 7006.0                5430.0              8666.0   \n",
       "3                 8536.0                5543.0              9272.0   \n",
       "4                 7988.0                5715.0              8270.0   \n",
       "...                  ...                   ...                 ...   \n",
       "1645              5560.0                5133.0              8373.0   \n",
       "1646              5335.0                5119.2              8561.0   \n",
       "1647              5319.0                5119.2              8305.0   \n",
       "1648              5116.0                5122.6              8303.0   \n",
       "1649              5762.0                5119.2              8709.0   \n",
       "\n",
       "      TREAT_MAX_PRESSURE  TREAT_MIN_PRESSURE PROPPANT_DESIGNED  ...  \\\n",
       "0                 9588.0              7618.0            366938  ...   \n",
       "1                 9543.0              7618.0            366938  ...   \n",
       "2                 9267.0              7006.0            520000  ...   \n",
       "3                 9492.0              7618.0            366938  ...   \n",
       "4                 8597.0              7872.0            218700  ...   \n",
       "...                  ...                 ...               ...  ...   \n",
       "1645              8729.0              7618.0            367500  ...   \n",
       "1646              9179.0              7618.0            367500  ...   \n",
       "1647              9116.0              7618.0            367500  ...   \n",
       "1648              8612.0              7618.0            367500  ...   \n",
       "1649              9160.0              7618.0            367500  ...   \n",
       "\n",
       "                   DIVERSION_COMPANY DIVERSION_METHOD  DELIVERY_MODE  \\\n",
       "0     DIVERSION_COMPANY - 2019000003        Frac Plug         Casing   \n",
       "1     DIVERSION_COMPANY - 2019000003        Frac Plug         Casing   \n",
       "2     DIVERSION_COMPANY - 2019000028             NONE         Casing   \n",
       "3     DIVERSION_COMPANY - 2019000003        Frac Plug         Casing   \n",
       "4     DIVERSION_COMPANY - 2019000003         Unibeads         Casing   \n",
       "...                              ...              ...            ...   \n",
       "1645  DIVERSION_COMPANY - 2019000003        Frac Plug         Casing   \n",
       "1646  DIVERSION_COMPANY - 2019000003        Frac Plug         Casing   \n",
       "1647  DIVERSION_COMPANY - 2019000003        Frac Plug         Casing   \n",
       "1648  DIVERSION_COMPANY - 2019000003        Frac Plug         Casing   \n",
       "1649  DIVERSION_COMPANY - 2019000003        Frac Plug         Casing   \n",
       "\n",
       "      BOTTOM_HOLE_PRESSURE_METHOD  CLOSURE_PRESSURE_METHOD  \\\n",
       "0                      Calculated         Nolte-Smith Calc   \n",
       "1                      Calculated         Nolte-Smith Calc   \n",
       "2                      Calculated         Nolte-Smith Calc   \n",
       "3                      Calculated         Nolte-Smith Calc   \n",
       "4                      Calculated         Nolte-Smith Calc   \n",
       "...                           ...                      ...   \n",
       "1645                   Calculated         Nolte-Smith Calc   \n",
       "1646                   Calculated         Nolte-Smith Calc   \n",
       "1647                   Calculated         Nolte-Smith Calc   \n",
       "1648                   Calculated         Nolte-Smith Calc   \n",
       "1649                   Calculated         Nolte-Smith Calc   \n",
       "\n",
       "      STIMULATION_RESULT  STIMULATION_RESULT_DETAIL  \\\n",
       "0                Success          According to Plan   \n",
       "1                Success          According to Plan   \n",
       "2                Success          According to Plan   \n",
       "3                Success          According to Plan   \n",
       "4                Success          According to Plan   \n",
       "...                  ...                        ...   \n",
       "1645             Success          According to Plan   \n",
       "1646             Success          According to Plan   \n",
       "1647             Success          According to Plan   \n",
       "1648             Success          According to Plan   \n",
       "1649             Success          According to Plan   \n",
       "\n",
       "                          STIMTREAT_ID       FLUID_NAME  \\\n",
       "0     6D773B3833D24F938D3D57021B44C9F3               FR   \n",
       "1     DBE8AD7785E5406DAE6641814B10DF41               FR   \n",
       "2     91F9041D448F44A2AF179016A20682BB  20# GUAR BORATE   \n",
       "3     1015B798C14043CC833617AA17E52EFF               FR   \n",
       "4     BDD068A2E89C4DD68150F764D4F09170  25# Guar Borate   \n",
       "...                                ...              ...   \n",
       "1645  83DE70239D7B47A6A4195F0F476A2BAB       Slickwater   \n",
       "1646  ACA7734DDC7D4EB9AA4213B6C7AD9FA8       Slickwater   \n",
       "1647  01406199182444F5BFEBD3FD820A6589       Slickwater   \n",
       "1648  9486B88B578B414BBBA9A43E8AA92AD2       Slickwater   \n",
       "1649  A4CB572C882A463F84D26CAFC60C9465       Slickwater   \n",
       "\n",
       "                 SITE_SUPERVISOR  \n",
       "0                  ADEMAR GALVAN  \n",
       "1                   JAVIER SOLIS  \n",
       "2     DAVE MALOTT/TRAVIS RODDOUT  \n",
       "3                  ADEMAR GALVAN  \n",
       "4               NICHOLAS STEPHEN  \n",
       "...                          ...  \n",
       "1645             EFRAIN GONZALES  \n",
       "1646            HECTOR RODRIGUEZ  \n",
       "1647               ADEMAR GALVAN  \n",
       "1648            HECTOR RODRIGUEZ  \n",
       "1649             EFRAIN GONZALES  \n",
       "\n",
       "[1650 rows x 149 columns]"
      ]
     },
     "execution_count": 9,
     "metadata": {},
     "output_type": "execute_result"
    }
   ],
   "source": [
    "new_rcompl"
   ]
  },
  {
   "cell_type": "code",
   "execution_count": 10,
   "metadata": {},
   "outputs": [],
   "source": [
    "new_rcompl.to_excel(\"RCOMPL_RIG_SCALED_REPLACE.xlsx\")"
   ]
  },
  {
   "cell_type": "code",
   "execution_count": 2,
   "metadata": {},
   "outputs": [],
   "source": [
    "data_stmstg = pd.read_excel(\"STMSTG_KNN_IMPUTED.xlsx\")"
   ]
  },
  {
   "cell_type": "code",
   "execution_count": 3,
   "metadata": {},
   "outputs": [],
   "source": [
    "unique_rigs = data_stmstg[\"CONTRACTOR\"].unique()"
   ]
  },
  {
   "cell_type": "code",
   "execution_count": 4,
   "metadata": {},
   "outputs": [
    {
     "name": "stdout",
     "output_type": "stream",
     "text": [
      "CONTRACTOR - 2019000008  has  3455  elements.\n",
      "CONTRACTOR - 2019000027  has  8790  elements.\n",
      "CONTRACTOR - 2019000030  has  3825  elements.\n",
      "CONTRACTOR - 2019000023  has  1191  elements.\n",
      "CONTRACTOR - 2019000051  has  460  elements.\n"
     ]
    }
   ],
   "source": [
    "total_entries = []\n",
    "\n",
    "for i in unique_rigs:\n",
    "    temp_pd = data_stmstg[data_stmstg[\"CONTRACTOR\"] == i]\n",
    "    print(i, \" has \", len(temp_pd), \" elements.\")\n",
    "    total_entries.append(len(temp_pd))"
   ]
  },
  {
   "cell_type": "code",
   "execution_count": 5,
   "metadata": {},
   "outputs": [
    {
     "data": {
      "text/plain": [
       "[3455, 8790, 3825, 1191, 460]"
      ]
     },
     "execution_count": 5,
     "metadata": {},
     "output_type": "execute_result"
    }
   ],
   "source": [
    "total_entries"
   ]
  },
  {
   "cell_type": "code",
   "execution_count": 6,
   "metadata": {},
   "outputs": [
    {
     "name": "stdout",
     "output_type": "stream",
     "text": [
      "total sum 17721\n"
     ]
    }
   ],
   "source": [
    "sum_stmstg = 0\n",
    "\n",
    "for i in total_entries:\n",
    "    sum_stmstg += i\n",
    "\n",
    "print(\"total sum\", sum_stmstg)\n",
    "tot_samples = sum_stmstg // 5"
   ]
  },
  {
   "cell_type": "code",
   "execution_count": 7,
   "metadata": {},
   "outputs": [
    {
     "data": {
      "text/plain": [
       "3544"
      ]
     },
     "execution_count": 7,
     "metadata": {},
     "output_type": "execute_result"
    }
   ],
   "source": [
    "tot_samples"
   ]
  },
  {
   "cell_type": "code",
   "execution_count": 8,
   "metadata": {},
   "outputs": [],
   "source": [
    "new_stmstg = pd.DataFrame(columns = data_stmstg.columns)\n",
    "\n",
    "for i in range(0, len(unique_rigs)):\n",
    "    temp_pd = data_stmstg[data_stmstg[\"CONTRACTOR\"] == unique_rigs[i]]\n",
    "    temp_pd = temp_pd.sample(n = tot_samples, replace = True)\n",
    "    new_stmstg = new_stmstg.append(temp_pd, ignore_index=True)"
   ]
  },
  {
   "cell_type": "code",
   "execution_count": 10,
   "metadata": {},
   "outputs": [
    {
     "data": {
      "text/plain": [
       "0        CONTRACTOR - 2019000008\n",
       "1        CONTRACTOR - 2019000008\n",
       "2        CONTRACTOR - 2019000008\n",
       "3        CONTRACTOR - 2019000008\n",
       "4        CONTRACTOR - 2019000008\n",
       "                  ...           \n",
       "17715    CONTRACTOR - 2019000051\n",
       "17716    CONTRACTOR - 2019000051\n",
       "17717    CONTRACTOR - 2019000051\n",
       "17718    CONTRACTOR - 2019000051\n",
       "17719    CONTRACTOR - 2019000051\n",
       "Name: CONTRACTOR, Length: 17720, dtype: object"
      ]
     },
     "execution_count": 10,
     "metadata": {},
     "output_type": "execute_result"
    }
   ],
   "source": [
    "new_stmstg[\"CONTRACTOR\"]"
   ]
  },
  {
   "cell_type": "code",
   "execution_count": 11,
   "metadata": {},
   "outputs": [],
   "source": [
    "new_stmstg.to_excel(\"STMSTG_RIG_SCALED_REPLACE.xlsx\", index = False)"
   ]
  }
 ],
 "metadata": {
  "kernelspec": {
   "display_name": "Python 3",
   "language": "python",
   "name": "python3"
  },
  "language_info": {
   "codemirror_mode": {
    "name": "ipython",
    "version": 3
   },
   "file_extension": ".py",
   "mimetype": "text/x-python",
   "name": "python",
   "nbconvert_exporter": "python",
   "pygments_lexer": "ipython3",
   "version": "3.6.11"
  }
 },
 "nbformat": 4,
 "nbformat_minor": 4
}
